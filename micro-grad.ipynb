{
 "cells": [
  {
   "cell_type": "code",
   "execution_count": 1,
   "metadata": {},
   "outputs": [],
   "source": [
    "import numpy as np \n",
    "import pandas as pd \n",
    "import matplotlib.pyplot as plt \n",
    "import torch "
   ]
  },
  {
   "cell_type": "code",
   "execution_count": 2,
   "metadata": {},
   "outputs": [],
   "source": [
    "f = lambda x:3*x**2-4*x+3"
   ]
  },
  {
   "cell_type": "code",
   "execution_count": 3,
   "metadata": {},
   "outputs": [],
   "source": [
    "x=np.arange(-5,5,0.25)"
   ]
  },
  {
   "cell_type": "code",
   "execution_count": 4,
   "metadata": {},
   "outputs": [],
   "source": [
    "y=f(x)"
   ]
  },
  {
   "cell_type": "code",
   "execution_count": 5,
   "metadata": {},
   "outputs": [
    {
     "data": {
      "text/plain": [
       "[<matplotlib.lines.Line2D at 0x7ff0a7b52eb0>]"
      ]
     },
     "execution_count": 5,
     "metadata": {},
     "output_type": "execute_result"
    },
    {
     "data": {
      "image/png": "[encoded data removed]",
      "text/plain": [
       "<Figure size 640x480 with 1 Axes>"
      ]
     },
     "metadata": {},
     "output_type": "display_data"
    }
   ],
   "source": [
    "plt.plot(x,y)"
   ]
  },
  {
   "cell_type": "code",
   "execution_count": 6,
   "metadata": {},
   "outputs": [
    {
     "name": "stdout",
     "output_type": "stream",
     "text": [
      "derivative at a=2 is 8.000000288888032\n"
     ]
    }
   ],
   "source": [
    "#Let say i want to differentiate this function at a=2 so by derivative rule this can be done by (f(a+h)-f(a))/h\n",
    "\n",
    "a=2 \n",
    "h=0.0000001\n",
    "d1=f(a)\n",
    "a2=a+h\n",
    "d2=f(a2)\n",
    "print(f\"derivative at a={a} is {(d2-d1)/h}\")"
   ]
  },
  {
   "cell_type": "code",
   "execution_count": 7,
   "metadata": {},
   "outputs": [
    {
     "name": "stdout",
     "output_type": "stream",
     "text": [
      "slope is -3.000000000419334\n"
     ]
    }
   ],
   "source": [
    "a=2.0\n",
    "b=-3.0\n",
    "c=10.0\n",
    "d=a*b+c \n",
    "\n",
    "#gradient with respect to a \n",
    "h=0.000001\n",
    "d1=a*b+c\n",
    "a+=h\n",
    "d2=a*b+c \n",
    "\n",
    "print(f\"slope is {(d2-d1)/h}\")\n"
   ]
  },
  {
   "cell_type": "code",
   "execution_count": 15,
   "metadata": {},
   "outputs": [],
   "source": [
    "class Value:\n",
    "    def __init__(self,data,_children=(),op=''):\n",
    "        self.data=data \n",
    "        self._prev=set(_children)\n",
    "        self.op=op\n",
    "\n",
    "    def __repr__(self):\n",
    "        return f\"Value={self.data}\"\n",
    "    def __add__(self,other):\n",
    "        out=Value(self.data+other.data,(self.data,other.data),\"+\")\n",
    "        return out \n",
    "    def __mul__(self,other):\n",
    "        mul=Value(self.data*other.data,(self.data,other.data),\"*\")\n",
    "        return mul\n",
    "\n",
    "    \n",
    "a=Value(2.0)\n",
    "b=Value(-3.0)\n",
    "c=Value(4.0)\n",
    "d=a*b+c "
   ]
  },
  {
   "cell_type": "code",
   "execution_count": 20,
   "metadata": {},
   "outputs": [
    {
     "data": {
      "text/plain": [
       "set()"
      ]
     },
     "execution_count": 20,
     "metadata": {},
     "output_type": "execute_result"
    }
   ],
   "source": []
  },
  {
   "cell_type": "code",
   "execution_count": 10,
   "metadata": {},
   "outputs": [
    {
     "data": {
      "text/plain": [
       "'*'"
      ]
     },
     "execution_count": 10,
     "metadata": {},
     "output_type": "execute_result"
    }
   ],
   "source": [
    "c.op"
   ]
  },
  {
   "cell_type": "code",
   "execution_count": 51,
   "metadata": {},
   "outputs": [],
   "source": [
    "\"\"\"from graphviz import Digraph \n",
    "\n",
    "def trace(root):\n",
    "    nodes,edges=set(),set()\n",
    "    def build(v):\n",
    "        if  v not in nodes:\n",
    "            nodes.add(v)\n",
    "            for childs in v._prev:\n",
    "                edges.add((childs,v))\n",
    "                build(childs)\n",
    "    build(root)\n",
    "    return nodes,edges \n",
    "\n",
    "def draw_dot(root):\n",
    "    dot=Digraph(format='svg',graph_attr={'rankdir':'LR'})\n",
    "    nodes,edges=trace(root)\n",
    "    for n in nodes:\n",
    "        uid=str(id(n))\n",
    "        dot.node(name=uid,label=\"{data%.4f}\"%(n.data,),shape='record')\n",
    "        if n.op:\n",
    "            dot.node(name=uid+n.op,label=n.op)\n",
    "    \n",
    "    for n1,n2 in edges:\n",
    "        dot.edges(str(id(n1)),str(id(n2))+n2.op)\n",
    "    \n",
    "    return dot \"\"\"\n",
    "\n",
    "\n",
    "\n",
    " "
   ]
  },
  {
   "cell_type": "code",
   "execution_count": 52,
   "metadata": {},
   "outputs": [
    {
     "name": "stdout",
     "output_type": "stream",
     "text": [
      "<class '__main__.Value'>\n",
      "<class 'float'>\n"
     ]
    },
    {
     "ename": "AttributeError",
     "evalue": "'float' object has no attribute '_prev'",
     "output_type": "error",
     "traceback": [
      "\u001b[0;31m---------------------------------------------------------------------------\u001b[0m",
      "\u001b[0;31mAttributeError\u001b[0m                            Traceback (most recent call last)",
      "Cell \u001b[0;32mIn[52], line 1\u001b[0m\n\u001b[0;32m----> 1\u001b[0m trace(d)\n",
      "Cell \u001b[0;32mIn[51], line 42\u001b[0m, in \u001b[0;36mtrace\u001b[0;34m(root)\u001b[0m\n\u001b[1;32m     40\u001b[0m             edges\u001b[39m.\u001b[39madd((childs,v))\n\u001b[1;32m     41\u001b[0m             build(childs)\n\u001b[0;32m---> 42\u001b[0m build(root)\n\u001b[1;32m     43\u001b[0m \u001b[39mreturn\u001b[39;00m nodes,edges\n",
      "Cell \u001b[0;32mIn[51], line 41\u001b[0m, in \u001b[0;36mtrace.<locals>.build\u001b[0;34m(v)\u001b[0m\n\u001b[1;32m     39\u001b[0m \u001b[39mfor\u001b[39;00m childs \u001b[39min\u001b[39;00m v\u001b[39m.\u001b[39m_prev:\n\u001b[1;32m     40\u001b[0m     edges\u001b[39m.\u001b[39madd((childs,v))\n\u001b[0;32m---> 41\u001b[0m     build(childs)\n",
      "Cell \u001b[0;32mIn[51], line 39\u001b[0m, in \u001b[0;36mtrace.<locals>.build\u001b[0;34m(v)\u001b[0m\n\u001b[1;32m     37\u001b[0m nodes\u001b[39m.\u001b[39madd(v)\n\u001b[1;32m     38\u001b[0m \u001b[39m#print(type(v))\u001b[39;00m\n\u001b[0;32m---> 39\u001b[0m \u001b[39mfor\u001b[39;00m childs \u001b[39min\u001b[39;00m v\u001b[39m.\u001b[39;49m_prev:\n\u001b[1;32m     40\u001b[0m     edges\u001b[39m.\u001b[39madd((childs,v))\n\u001b[1;32m     41\u001b[0m     build(childs)\n",
      "\u001b[0;31mAttributeError\u001b[0m: 'float' object has no attribute '_prev'"
     ]
    }
   ],
   "source": [
    "trace(d)"
   ]
  },
  {
   "cell_type": "code",
   "execution_count": 23,
   "metadata": {},
   "outputs": [
    {
     "data": {
      "text/plain": [
       "{(-6.0, Value=-2.0), (4.0, Value=-2.0)}"
      ]
     },
     "execution_count": 23,
     "metadata": {},
     "output_type": "execute_result"
    }
   ],
   "source": [
    "edges "
   ]
  },
  {
   "cell_type": "code",
   "execution_count": 34,
   "metadata": {},
   "outputs": [
    {
     "data": {
      "text/plain": [
       "__main__.Value"
      ]
     },
     "execution_count": 34,
     "metadata": {},
     "output_type": "execute_result"
    }
   ],
   "source": [
    "type(d)"
   ]
  },
  {
   "cell_type": "code",
   "execution_count": null,
   "metadata": {},
   "outputs": [],
   "source": []
  }
 ],
 "metadata": {
  "kernelspec": {
   "display_name": "Pytorch",
   "language": "python",
   "name": "pytorch"
  },
  "language_info": {
   "codemirror_mode": {
    "name": "ipython",
    "version": 3
   },
   "file_extension": ".py",
   "mimetype": "text/x-python",
   "name": "python",
   "nbconvert_exporter": "python",
   "pygments_lexer": "ipython3",
   "version": "3.9.13"
  },
  "orig_nbformat": 4
 },
 "nbformat": 4,
 "nbformat_minor": 2
}
